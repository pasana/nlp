{
 "cells": [
  {
   "cell_type": "markdown",
   "metadata": {
    "deletable": true,
    "editable": true
   },
   "source": [
    "https://github.com/JonathanReeve/advanced-text-analysis-workshop-2017/blob/master/advanced-text-analysis.ipynb\n",
    "\n",
    "http://clarkgrubb.com/nlp"
   ]
  },
  {
   "cell_type": "markdown",
   "metadata": {
    "deletable": true,
    "editable": true
   },
   "source": [
    "# SpaCy"
   ]
  },
  {
   "cell_type": "code",
   "execution_count": 1,
   "metadata": {
    "collapsed": true,
    "deletable": true,
    "editable": true
   },
   "outputs": [],
   "source": [
    "import spacy\n",
    "nlp = spacy.load('en')"
   ]
  },
  {
   "cell_type": "code",
   "execution_count": 2,
   "metadata": {
    "collapsed": true,
    "deletable": true,
    "editable": true
   },
   "outputs": [],
   "source": [
    "text = \"Jules S. Damji is a Apache Spark Community Evangelist with Databricks. He is a hands-on developer with over 15 years of experience and has worked at leading companies building large-scale distributed systems. Before joining Databricks, he was a Developer Advocate at Hortonworks.\""
   ]
  },
  {
   "cell_type": "code",
   "execution_count": 3,
   "metadata": {
    "collapsed": false,
    "deletable": true,
    "editable": true
   },
   "outputs": [
    {
     "name": "stdout",
     "output_type": "stream",
     "text": [
      "CPU times: user 8 ms, sys: 0 ns, total: 8 ms\n",
      "Wall time: 87.4 ms\n"
     ]
    }
   ],
   "source": [
    "%time spacy_text = nlp(text)"
   ]
  },
  {
   "cell_type": "markdown",
   "metadata": {
    "deletable": true,
    "editable": true
   },
   "source": [
    "## Sentence tokenization"
   ]
  },
  {
   "cell_type": "code",
   "execution_count": 4,
   "metadata": {
    "collapsed": true,
    "deletable": true,
    "editable": true
   },
   "outputs": [],
   "source": [
    "from nltk.tokenize import sent_tokenize"
   ]
  },
  {
   "cell_type": "code",
   "execution_count": 5,
   "metadata": {
    "collapsed": false,
    "deletable": true,
    "editable": true
   },
   "outputs": [
    {
     "data": {
      "text/plain": [
       "[Jules S. Damji is a Apache Spark Community Evangelist with Databricks.,\n",
       " He is a hands-on developer with over 15 years of experience and has worked at leading companies building large-scale distributed systems.,\n",
       " Before joining Databricks, he was a Developer Advocate at Hortonworks.]"
      ]
     },
     "execution_count": 5,
     "metadata": {},
     "output_type": "execute_result"
    }
   ],
   "source": [
    "list(spacy_text.sents)"
   ]
  },
  {
   "cell_type": "code",
   "execution_count": 6,
   "metadata": {
    "collapsed": false,
    "deletable": true,
    "editable": true
   },
   "outputs": [
    {
     "data": {
      "text/plain": [
       "['Jules S. Damji is a Apache Spark Community Evangelist with Databricks.',\n",
       " 'He is a hands-on developer with over 15 years of experience and has worked at leading companies building large-scale distributed systems.',\n",
       " 'Before joining Databricks, he was a Developer Advocate at Hortonworks.']"
      ]
     },
     "execution_count": 6,
     "metadata": {},
     "output_type": "execute_result"
    }
   ],
   "source": [
    "sent_tokenize(text)"
   ]
  },
  {
   "cell_type": "markdown",
   "metadata": {
    "deletable": true,
    "editable": true
   },
   "source": [
    "## Word tokenization"
   ]
  },
  {
   "cell_type": "code",
   "execution_count": 7,
   "metadata": {
    "collapsed": true,
    "deletable": true,
    "editable": true
   },
   "outputs": [],
   "source": [
    "from nltk.tokenize import word_tokenize"
   ]
  },
  {
   "cell_type": "code",
   "execution_count": 8,
   "metadata": {
    "collapsed": false,
    "deletable": true,
    "editable": true
   },
   "outputs": [
    {
     "data": {
      "text/plain": [
       "Jules S. Damji is a Apache Spark Community Evangelist with Databricks."
      ]
     },
     "execution_count": 8,
     "metadata": {},
     "output_type": "execute_result"
    }
   ],
   "source": [
    "list(spacy_text.sents)[0]"
   ]
  },
  {
   "cell_type": "code",
   "execution_count": 9,
   "metadata": {
    "collapsed": false,
    "deletable": true,
    "editable": true
   },
   "outputs": [
    {
     "data": {
      "text/plain": [
       "Apache"
      ]
     },
     "execution_count": 9,
     "metadata": {},
     "output_type": "execute_result"
    }
   ],
   "source": [
    "list(spacy_text.sents)[0][5]"
   ]
  },
  {
   "cell_type": "markdown",
   "metadata": {
    "deletable": true,
    "editable": true
   },
   "source": [
    "i - position in a whole text"
   ]
  },
  {
   "cell_type": "code",
   "execution_count": 10,
   "metadata": {
    "collapsed": false,
    "deletable": true,
    "editable": true
   },
   "outputs": [
    {
     "data": {
      "text/plain": [
       "(hands, 15)"
      ]
     },
     "execution_count": 10,
     "metadata": {},
     "output_type": "execute_result"
    }
   ],
   "source": [
    "list(spacy_text.sents)[0][15], list(spacy_text.sents)[0][15].i"
   ]
  },
  {
   "cell_type": "code",
   "execution_count": 11,
   "metadata": {
    "collapsed": false,
    "deletable": true,
    "editable": true
   },
   "outputs": [
    {
     "data": {
      "text/plain": [
       "(worked, 27)"
      ]
     },
     "execution_count": 11,
     "metadata": {},
     "output_type": "execute_result"
    }
   ],
   "source": [
    "list(spacy_text.sents)[1][15], list(spacy_text.sents)[1][15].i"
   ]
  },
  {
   "cell_type": "code",
   "execution_count": 12,
   "metadata": {
    "collapsed": false,
    "deletable": true,
    "editable": true
   },
   "outputs": [
    {
     "data": {
      "text/plain": [
       "12"
      ]
     },
     "execution_count": 12,
     "metadata": {},
     "output_type": "execute_result"
    }
   ],
   "source": [
    "len(list(spacy_text.sents)[0])"
   ]
  },
  {
   "cell_type": "code",
   "execution_count": 13,
   "metadata": {
    "collapsed": false,
    "deletable": true,
    "editable": true,
    "scrolled": true
   },
   "outputs": [
    {
     "data": {
      "text/plain": [
       "['Jules',\n",
       " 'S.',\n",
       " 'Damji',\n",
       " 'is',\n",
       " 'a',\n",
       " 'Apache',\n",
       " 'Spark',\n",
       " 'Community',\n",
       " 'Evangelist',\n",
       " 'with',\n",
       " 'Databricks',\n",
       " '.',\n",
       " 'He',\n",
       " 'is',\n",
       " 'a',\n",
       " 'hands-on',\n",
       " 'developer',\n",
       " 'with',\n",
       " 'over',\n",
       " '15',\n",
       " 'years',\n",
       " 'of',\n",
       " 'experience',\n",
       " 'and',\n",
       " 'has',\n",
       " 'worked',\n",
       " 'at',\n",
       " 'leading',\n",
       " 'companies',\n",
       " 'building',\n",
       " 'large-scale',\n",
       " 'distributed',\n",
       " 'systems',\n",
       " '.',\n",
       " 'Before',\n",
       " 'joining',\n",
       " 'Databricks',\n",
       " ',',\n",
       " 'he',\n",
       " 'was',\n",
       " 'a',\n",
       " 'Developer',\n",
       " 'Advocate',\n",
       " 'at',\n",
       " 'Hortonworks',\n",
       " '.']"
      ]
     },
     "execution_count": 13,
     "metadata": {},
     "output_type": "execute_result"
    }
   ],
   "source": [
    "word_tokenize(text)"
   ]
  },
  {
   "cell_type": "markdown",
   "metadata": {
    "deletable": true,
    "editable": true
   },
   "source": [
    "## Word properties"
   ]
  },
  {
   "cell_type": "code",
   "execution_count": 14,
   "metadata": {
    "collapsed": false,
    "deletable": true,
    "editable": true,
    "scrolled": true
   },
   "outputs": [
    {
     "data": {
      "text/plain": [
       "['__bytes__',\n",
       " '__class__',\n",
       " '__delattr__',\n",
       " '__dir__',\n",
       " '__doc__',\n",
       " '__eq__',\n",
       " '__format__',\n",
       " '__ge__',\n",
       " '__getattribute__',\n",
       " '__gt__',\n",
       " '__hash__',\n",
       " '__init__',\n",
       " '__le__',\n",
       " '__len__',\n",
       " '__lt__',\n",
       " '__ne__',\n",
       " '__new__',\n",
       " '__pyx_vtable__',\n",
       " '__reduce__',\n",
       " '__reduce_ex__',\n",
       " '__repr__',\n",
       " '__setattr__',\n",
       " '__sizeof__',\n",
       " '__str__',\n",
       " '__subclasshook__',\n",
       " '__unicode__',\n",
       " 'ancestors',\n",
       " 'check_flag',\n",
       " 'children',\n",
       " 'cluster',\n",
       " 'conjuncts',\n",
       " 'dep',\n",
       " 'dep_',\n",
       " 'doc',\n",
       " 'ent_id',\n",
       " 'ent_id_',\n",
       " 'ent_iob',\n",
       " 'ent_iob_',\n",
       " 'ent_type',\n",
       " 'ent_type_',\n",
       " 'has_repvec',\n",
       " 'has_vector',\n",
       " 'head',\n",
       " 'i',\n",
       " 'idx',\n",
       " 'is_alpha',\n",
       " 'is_ancestor',\n",
       " 'is_ancestor_of',\n",
       " 'is_ascii',\n",
       " 'is_bracket',\n",
       " 'is_digit',\n",
       " 'is_left_punct',\n",
       " 'is_lower',\n",
       " 'is_oov',\n",
       " 'is_punct',\n",
       " 'is_quote',\n",
       " 'is_right_punct',\n",
       " 'is_space',\n",
       " 'is_stop',\n",
       " 'is_title',\n",
       " 'lang',\n",
       " 'lang_',\n",
       " 'left_edge',\n",
       " 'lefts',\n",
       " 'lemma',\n",
       " 'lemma_',\n",
       " 'lex_id',\n",
       " 'like_email',\n",
       " 'like_num',\n",
       " 'like_url',\n",
       " 'lower',\n",
       " 'lower_',\n",
       " 'n_lefts',\n",
       " 'n_rights',\n",
       " 'nbor',\n",
       " 'norm',\n",
       " 'norm_',\n",
       " 'orth',\n",
       " 'orth_',\n",
       " 'pos',\n",
       " 'pos_',\n",
       " 'prefix',\n",
       " 'prefix_',\n",
       " 'prob',\n",
       " 'rank',\n",
       " 'repvec',\n",
       " 'right_edge',\n",
       " 'rights',\n",
       " 'sentiment',\n",
       " 'shape',\n",
       " 'shape_',\n",
       " 'similarity',\n",
       " 'string',\n",
       " 'subtree',\n",
       " 'suffix',\n",
       " 'suffix_',\n",
       " 'tag',\n",
       " 'tag_',\n",
       " 'text',\n",
       " 'text_with_ws',\n",
       " 'vector',\n",
       " 'vector_norm',\n",
       " 'vocab',\n",
       " 'whitespace_']"
      ]
     },
     "execution_count": 14,
     "metadata": {},
     "output_type": "execute_result"
    }
   ],
   "source": [
    "dir(list(spacy_text.sents)[1][15])"
   ]
  },
  {
   "cell_type": "markdown",
   "metadata": {
    "deletable": true,
    "editable": true
   },
   "source": [
    "## NER"
   ]
  },
  {
   "cell_type": "code",
   "execution_count": 15,
   "metadata": {
    "collapsed": false,
    "deletable": true,
    "editable": true
   },
   "outputs": [
    {
     "data": {
      "text/plain": [
       "(Jules S. Damji,\n",
       " Apache Spark Community Evangelist,\n",
       " Databricks,\n",
       " 15 years,\n",
       " Databricks)"
      ]
     },
     "execution_count": 15,
     "metadata": {},
     "output_type": "execute_result"
    }
   ],
   "source": [
    "spacy_text.ents"
   ]
  },
  {
   "cell_type": "code",
   "execution_count": 16,
   "metadata": {
    "collapsed": false,
    "deletable": true,
    "editable": true
   },
   "outputs": [
    {
     "data": {
      "text/plain": [
       "(Jules S. Damji, 377, 'PERSON')"
      ]
     },
     "execution_count": 16,
     "metadata": {},
     "output_type": "execute_result"
    }
   ],
   "source": [
    "spacy_text.ents[0], spacy_text.ents[0].label, spacy_text.ents[0].label_"
   ]
  },
  {
   "cell_type": "code",
   "execution_count": 17,
   "metadata": {
    "collapsed": false,
    "deletable": true,
    "editable": true
   },
   "outputs": [
    {
     "data": {
      "text/plain": [
       "(Databricks, 377, 'PERSON')"
      ]
     },
     "execution_count": 17,
     "metadata": {},
     "output_type": "execute_result"
    }
   ],
   "source": [
    "spacy_text.ents[2], spacy_text.ents[2].label, spacy_text.ents[2].label_"
   ]
  },
  {
   "cell_type": "code",
   "execution_count": 18,
   "metadata": {
    "collapsed": true,
    "deletable": true,
    "editable": true
   },
   "outputs": [],
   "source": [
    "from nltk import ne_chunk, tag"
   ]
  },
  {
   "cell_type": "code",
   "execution_count": 19,
   "metadata": {
    "collapsed": false,
    "deletable": true,
    "editable": true,
    "scrolled": true
   },
   "outputs": [
    {
     "data": {
      "text/plain": [
       "[Tree('PERSON', [('Jules', 'NNP')]),\n",
       " ('S.', 'NNP'),\n",
       " ('Damji', 'NNP'),\n",
       " ('is', 'VBZ'),\n",
       " ('a', 'DT'),\n",
       " Tree('ORGANIZATION', [('Apache', 'NNP'), ('Spark', 'NNP')]),\n",
       " ('Community', 'NNP'),\n",
       " ('Evangelist', 'NNP'),\n",
       " ('with', 'IN'),\n",
       " Tree('PERSON', [('Databricks', 'NNP')]),\n",
       " ('.', '.'),\n",
       " ('He', 'PRP'),\n",
       " ('is', 'VBZ'),\n",
       " ('a', 'DT'),\n",
       " ('hands-on', 'JJ'),\n",
       " ('developer', 'NN'),\n",
       " ('with', 'IN'),\n",
       " ('over', 'IN'),\n",
       " ('15', 'CD'),\n",
       " ('years', 'NNS'),\n",
       " ('of', 'IN'),\n",
       " ('experience', 'NN'),\n",
       " ('and', 'CC'),\n",
       " ('has', 'VBZ'),\n",
       " ('worked', 'VBN'),\n",
       " ('at', 'IN'),\n",
       " ('leading', 'VBG'),\n",
       " ('companies', 'NNS'),\n",
       " ('building', 'VBG'),\n",
       " ('large-scale', 'JJ'),\n",
       " ('distributed', 'JJ'),\n",
       " ('systems', 'NNS'),\n",
       " ('.', '.'),\n",
       " ('Before', 'IN'),\n",
       " ('joining', 'VBG'),\n",
       " Tree('PERSON', [('Databricks', 'NNP')]),\n",
       " (',', ','),\n",
       " ('he', 'PRP'),\n",
       " ('was', 'VBD'),\n",
       " ('a', 'DT'),\n",
       " Tree('ORGANIZATION', [('Developer', 'NNP'), ('Advocate', 'NNP')]),\n",
       " ('at', 'IN'),\n",
       " Tree('ORGANIZATION', [('Hortonworks', 'NNP')]),\n",
       " ('.', '.')]"
      ]
     },
     "execution_count": 19,
     "metadata": {},
     "output_type": "execute_result"
    }
   ],
   "source": [
    "list(ne_chunk(tag.pos_tag(word_tokenize(text))))"
   ]
  },
  {
   "cell_type": "markdown",
   "metadata": {
    "deletable": true,
    "editable": true
   },
   "source": [
    "NLTK find more entities but worse extract them then SpaCy"
   ]
  },
  {
   "cell_type": "markdown",
   "metadata": {
    "deletable": true,
    "editable": true
   },
   "source": [
    "## POS-tagging"
   ]
  },
  {
   "cell_type": "code",
   "execution_count": 20,
   "metadata": {
    "collapsed": false,
    "deletable": true,
    "editable": true,
    "scrolled": true
   },
   "outputs": [
    {
     "data": {
      "text/plain": [
       "[(Jules, 'NNP', 'PROPN'),\n",
       " (S., 'NNP', 'PROPN'),\n",
       " (Damji, 'NNP', 'PROPN'),\n",
       " (is, 'VBZ', 'VERB'),\n",
       " (a, 'DT', 'DET'),\n",
       " (Apache, 'NNP', 'PROPN'),\n",
       " (Spark, 'NNP', 'PROPN'),\n",
       " (Community, 'NNP', 'PROPN'),\n",
       " (Evangelist, 'NNP', 'PROPN'),\n",
       " (with, 'IN', 'ADP'),\n",
       " (Databricks, 'NNP', 'PROPN'),\n",
       " (., '.', 'PUNCT'),\n",
       " (He, 'PRP', 'PRON'),\n",
       " (is, 'VBZ', 'VERB'),\n",
       " (a, 'DT', 'DET'),\n",
       " (hands, 'NNS', 'NOUN'),\n",
       " (-, 'HYPH', 'PUNCT'),\n",
       " (on, 'IN', 'ADP'),\n",
       " (developer, 'NN', 'NOUN'),\n",
       " (with, 'IN', 'ADP'),\n",
       " (over, 'IN', 'ADP'),\n",
       " (15, 'CD', 'NUM'),\n",
       " (years, 'NNS', 'NOUN'),\n",
       " (of, 'IN', 'ADP'),\n",
       " (experience, 'NN', 'NOUN'),\n",
       " (and, 'CC', 'CCONJ'),\n",
       " (has, 'VBZ', 'VERB'),\n",
       " (worked, 'VBN', 'VERB'),\n",
       " (at, 'IN', 'ADP'),\n",
       " (leading, 'VBG', 'VERB'),\n",
       " (companies, 'NNS', 'NOUN'),\n",
       " (building, 'VBG', 'VERB'),\n",
       " (large, 'JJ', 'ADJ'),\n",
       " (-, 'HYPH', 'PUNCT'),\n",
       " (scale, 'NN', 'NOUN'),\n",
       " (distributed, 'VBN', 'VERB'),\n",
       " (systems, 'NNS', 'NOUN'),\n",
       " (., '.', 'PUNCT'),\n",
       " (Before, 'IN', 'ADP'),\n",
       " (joining, 'VBG', 'VERB'),\n",
       " (Databricks, 'NNP', 'PROPN'),\n",
       " (,, ',', 'PUNCT'),\n",
       " (he, 'PRP', 'PRON'),\n",
       " (was, 'VBD', 'VERB'),\n",
       " (a, 'DT', 'DET'),\n",
       " (Developer, 'NNP', 'PROPN'),\n",
       " (Advocate, 'NNP', 'PROPN'),\n",
       " (at, 'IN', 'ADP'),\n",
       " (Hortonworks, 'NNP', 'PROPN'),\n",
       " (., '.', 'PUNCT')]"
      ]
     },
     "execution_count": 20,
     "metadata": {},
     "output_type": "execute_result"
    }
   ],
   "source": [
    "[(x, x.tag_, x.pos_) for x in spacy_text]"
   ]
  },
  {
   "cell_type": "code",
   "execution_count": 21,
   "metadata": {
    "collapsed": false,
    "deletable": true,
    "editable": true,
    "scrolled": true
   },
   "outputs": [
    {
     "data": {
      "text/plain": [
       "[('Jules', 'NNP'),\n",
       " ('S.', 'NNP'),\n",
       " ('Damji', 'NNP'),\n",
       " ('is', 'VBZ'),\n",
       " ('a', 'DT'),\n",
       " ('Apache', 'NNP'),\n",
       " ('Spark', 'NNP'),\n",
       " ('Community', 'NNP'),\n",
       " ('Evangelist', 'NNP'),\n",
       " ('with', 'IN'),\n",
       " ('Databricks', 'NNP'),\n",
       " ('.', '.'),\n",
       " ('He', 'PRP'),\n",
       " ('is', 'VBZ'),\n",
       " ('a', 'DT'),\n",
       " ('hands-on', 'JJ'),\n",
       " ('developer', 'NN'),\n",
       " ('with', 'IN'),\n",
       " ('over', 'IN'),\n",
       " ('15', 'CD'),\n",
       " ('years', 'NNS'),\n",
       " ('of', 'IN'),\n",
       " ('experience', 'NN'),\n",
       " ('and', 'CC'),\n",
       " ('has', 'VBZ'),\n",
       " ('worked', 'VBN'),\n",
       " ('at', 'IN'),\n",
       " ('leading', 'VBG'),\n",
       " ('companies', 'NNS'),\n",
       " ('building', 'VBG'),\n",
       " ('large-scale', 'JJ'),\n",
       " ('distributed', 'JJ'),\n",
       " ('systems', 'NNS'),\n",
       " ('.', '.'),\n",
       " ('Before', 'IN'),\n",
       " ('joining', 'VBG'),\n",
       " ('Databricks', 'NNP'),\n",
       " (',', ','),\n",
       " ('he', 'PRP'),\n",
       " ('was', 'VBD'),\n",
       " ('a', 'DT'),\n",
       " ('Developer', 'NNP'),\n",
       " ('Advocate', 'NNP'),\n",
       " ('at', 'IN'),\n",
       " ('Hortonworks', 'NNP'),\n",
       " ('.', '.')]"
      ]
     },
     "execution_count": 21,
     "metadata": {},
     "output_type": "execute_result"
    }
   ],
   "source": [
    "tag.pos_tag(word_tokenize(text))"
   ]
  },
  {
   "cell_type": "markdown",
   "metadata": {
    "deletable": true,
    "editable": true
   },
   "source": [
    "first: spacy.tokens.token.Token vs str"
   ]
  },
  {
   "cell_type": "code",
   "execution_count": 22,
   "metadata": {
    "collapsed": false,
    "deletable": true,
    "editable": true
   },
   "outputs": [],
   "source": [
    "nltk_tags = tag.pos_tag(word_tokenize(text))\n",
    "spacy_tags = [(str(word), word.tag_) for word in spacy_text]"
   ]
  },
  {
   "cell_type": "markdown",
   "metadata": {
    "deletable": true,
    "editable": true
   },
   "source": [
    "difference"
   ]
  },
  {
   "cell_type": "code",
   "execution_count": 23,
   "metadata": {
    "collapsed": false,
    "deletable": true,
    "editable": true
   },
   "outputs": [
    {
     "data": {
      "text/plain": [
       "[('hands', 'NNS'),\n",
       " ('-', 'HYPH'),\n",
       " ('on', 'IN'),\n",
       " ('large', 'JJ'),\n",
       " ('-', 'HYPH'),\n",
       " ('scale', 'NN'),\n",
       " ('distributed', 'VBN')]"
      ]
     },
     "execution_count": 23,
     "metadata": {},
     "output_type": "execute_result"
    }
   ],
   "source": [
    "[x for x in spacy_tags if x not in nltk_tags]"
   ]
  },
  {
   "cell_type": "code",
   "execution_count": 24,
   "metadata": {
    "collapsed": false,
    "deletable": true,
    "editable": true
   },
   "outputs": [
    {
     "data": {
      "text/plain": [
       "[('hands-on', 'JJ'), ('large-scale', 'JJ'), ('distributed', 'JJ')]"
      ]
     },
     "execution_count": 24,
     "metadata": {},
     "output_type": "execute_result"
    }
   ],
   "source": [
    "[x for x in nltk_tags if x not in spacy_tags]"
   ]
  },
  {
   "cell_type": "markdown",
   "metadata": {
    "deletable": true,
    "editable": true
   },
   "source": [
    "## Lemmatization"
   ]
  },
  {
   "cell_type": "code",
   "execution_count": 25,
   "metadata": {
    "collapsed": false,
    "deletable": true,
    "editable": true
   },
   "outputs": [
    {
     "data": {
      "text/plain": [
       "hands"
      ]
     },
     "execution_count": 25,
     "metadata": {},
     "output_type": "execute_result"
    }
   ],
   "source": [
    "word = spacy_text[15]\n",
    "word"
   ]
  },
  {
   "cell_type": "code",
   "execution_count": 26,
   "metadata": {
    "collapsed": false,
    "deletable": true,
    "editable": true
   },
   "outputs": [
    {
     "data": {
      "text/plain": [
       "'hand'"
      ]
     },
     "execution_count": 26,
     "metadata": {},
     "output_type": "execute_result"
    }
   ],
   "source": [
    "word.lemma_"
   ]
  },
  {
   "cell_type": "code",
   "execution_count": 27,
   "metadata": {
    "collapsed": true,
    "deletable": true,
    "editable": true
   },
   "outputs": [],
   "source": [
    "from nltk.corpus import wordnet as wn"
   ]
  },
  {
   "cell_type": "code",
   "execution_count": 28,
   "metadata": {
    "collapsed": false,
    "deletable": true,
    "editable": true
   },
   "outputs": [
    {
     "data": {
      "text/plain": [
       "('apple', 'go', 'hands', None, None)"
      ]
     },
     "execution_count": 28,
     "metadata": {},
     "output_type": "execute_result"
    }
   ],
   "source": [
    "wn.morphy('apples'), wn.morphy('goes'), wn.morphy(str(word)), wn.morphy('Sony'), wn.morphy('sony')"
   ]
  },
  {
   "cell_type": "code",
   "execution_count": null,
   "metadata": {
    "collapsed": true,
    "deletable": true,
    "editable": true
   },
   "outputs": [],
   "source": []
  },
  {
   "cell_type": "code",
   "execution_count": null,
   "metadata": {
    "collapsed": true,
    "deletable": true,
    "editable": true
   },
   "outputs": [],
   "source": []
  },
  {
   "cell_type": "code",
   "execution_count": 29,
   "metadata": {
    "collapsed": true,
    "deletable": true,
    "editable": true
   },
   "outputs": [],
   "source": [
    "from nltk.corpus import words"
   ]
  },
  {
   "cell_type": "code",
   "execution_count": 30,
   "metadata": {
    "collapsed": false,
    "deletable": true,
    "editable": true
   },
   "outputs": [
    {
     "data": {
      "text/plain": [
       "False"
      ]
     },
     "execution_count": 30,
     "metadata": {},
     "output_type": "execute_result"
    }
   ],
   "source": [
    "'ii' in words.words()"
   ]
  },
  {
   "cell_type": "code",
   "execution_count": 31,
   "metadata": {
    "collapsed": false,
    "deletable": true,
    "editable": true
   },
   "outputs": [
    {
     "data": {
      "text/plain": [
       "-9.322564125061035"
      ]
     },
     "execution_count": 31,
     "metadata": {},
     "output_type": "execute_result"
    }
   ],
   "source": [
    "word.prob"
   ]
  },
  {
   "cell_type": "markdown",
   "metadata": {
    "deletable": true,
    "editable": true
   },
   "source": [
    "## Dependency Parsing"
   ]
  },
  {
   "cell_type": "code",
   "execution_count": 34,
   "metadata": {
    "collapsed": false,
    "deletable": true,
    "editable": true
   },
   "outputs": [],
   "source": [
    "from sent2tree import sentenceTree"
   ]
  },
  {
   "cell_type": "code",
   "execution_count": 35,
   "metadata": {
    "collapsed": false,
    "deletable": true,
    "editable": true
   },
   "outputs": [
    {
     "data": {
      "text/plain": [
       "is"
      ]
     },
     "execution_count": 35,
     "metadata": {},
     "output_type": "execute_result"
    }
   ],
   "source": [
    "list(spacy_text.sents)[0].root"
   ]
  },
  {
   "cell_type": "code",
   "execution_count": 36,
   "metadata": {
    "collapsed": false,
    "deletable": true,
    "editable": true
   },
   "outputs": [
    {
     "name": "stdout",
     "output_type": "stream",
     "text": [
      "Jules S. Damji is a Apache Spark Community Evangelist with Databricks.\n"
     ]
    },
    {
     "data": {
      "image/png": "[encoded data removed]",
      "text/plain": [
       "<IPython.core.display.Image object>"
      ]
     },
     "execution_count": 36,
     "metadata": {},
     "output_type": "execute_result"
    }
   ],
   "source": [
    "st = sentenceTree(list(spacy_text.sents)[0])\n",
    "t, ts = st.render()\n",
    "t.render('%%inline', tree_style=ts)"
   ]
  },
  {
   "cell_type": "markdown",
   "metadata": {
    "deletable": true,
    "editable": true
   },
   "source": [
    "## Document Similarity"
   ]
  },
  {
   "cell_type": "code",
   "execution_count": 37,
   "metadata": {
    "collapsed": false,
    "deletable": true,
    "editable": true
   },
   "outputs": [
    {
     "data": {
      "text/plain": [
       "0.99999990750743162"
      ]
     },
     "execution_count": 37,
     "metadata": {},
     "output_type": "execute_result"
    }
   ],
   "source": [
    "spacy_text.similarity(spacy_text)"
   ]
  },
  {
   "cell_type": "markdown",
   "metadata": {
    "deletable": true,
    "editable": true
   },
   "source": [
    "## Word Embeddings (Word Vectors)"
   ]
  },
  {
   "cell_type": "code",
   "execution_count": null,
   "metadata": {
    "collapsed": true,
    "deletable": true,
    "editable": true
   },
   "outputs": [],
   "source": []
  },
  {
   "cell_type": "code",
   "execution_count": 38,
   "metadata": {
    "collapsed": false,
    "deletable": true,
    "editable": true
   },
   "outputs": [
    {
     "data": {
      "text/plain": [
       "<spacy.morphology.Morphology at 0x7fac45f46f48>"
      ]
     },
     "execution_count": 38,
     "metadata": {},
     "output_type": "execute_result"
    }
   ],
   "source": [
    "spacy_text.vocab.morphology"
   ]
  },
  {
   "cell_type": "code",
   "execution_count": null,
   "metadata": {
    "collapsed": true
   },
   "outputs": [],
   "source": []
  }
 ],
 "metadata": {
  "kernelspec": {
   "display_name": "Python 3",
   "language": "python",
   "name": "python3"
  },
  "language_info": {
   "codemirror_mode": {
    "name": "ipython",
    "version": 3
   },
   "file_extension": ".py",
   "mimetype": "text/x-python",
   "name": "python",
   "nbconvert_exporter": "python",
   "pygments_lexer": "ipython3",
   "version": "3.4.3"
  }
 },
 "nbformat": 4,
 "nbformat_minor": 0
}
